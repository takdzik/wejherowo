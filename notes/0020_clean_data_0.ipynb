{
 "cells": [
  {
   "cell_type": "code",
   "execution_count": 1,
   "metadata": {},
   "outputs": [],
   "source": [
    "import pandas as pd\n",
    "from pathlib import Path\n",
    "\n",
    "# Ścieżka do pliku JSON\n",
    "json_file = Path(\"../data/all_offers.json\")\n",
    "\n",
    "\n",
    "# Wczytanie danych do DataFrame\n",
    "df = pd.read_json(json_file)\n",
    "\n",
    "# Usunięcie kolumny 'zdjecia'\n",
    "df = df.drop(columns=[\"zdjecia\"], errors=\"ignore\")"
   ]
  },
  {
   "cell_type": "code",
   "execution_count": 2,
   "metadata": {},
   "outputs": [
    {
     "name": "stdout",
     "output_type": "stream",
     "text": [
      "<class 'pandas.core.frame.DataFrame'>\n",
      "RangeIndex: 14679 entries, 0 to 14678\n",
      "Data columns (total 23 columns):\n",
      " #   Column             Non-Null Count  Dtype  \n",
      "---  ------             --------------  -----  \n",
      " 0   id                 14679 non-null  int64  \n",
      " 1   marka              14679 non-null  object \n",
      " 2   model              14679 non-null  object \n",
      " 3   rok_produkcji      14679 non-null  int64  \n",
      " 4   przebieg           14678 non-null  object \n",
      " 5   rodzaj_paliwa      14679 non-null  object \n",
      " 6   pojemnosc_silnika  14246 non-null  object \n",
      " 7   moc_silnika        14665 non-null  object \n",
      " 8   skrzynia_biegow    14676 non-null  object \n",
      " 9   naped              13729 non-null  object \n",
      " 10  liczba_drzwi       14629 non-null  float64\n",
      " 11  typ_nadwozia       14679 non-null  object \n",
      " 12  kolor              14679 non-null  object \n",
      " 13  liczba_miejsc      13253 non-null  float64\n",
      " 14  stan_pojazdu       14679 non-null  object \n",
      " 15  bezwypadkowosc     14679 non-null  bool   \n",
      " 16  cena               14679 non-null  float64\n",
      " 17  waluta             14679 non-null  object \n",
      " 18  czy_cesja          14679 non-null  bool   \n",
      " 19  czy_prywatny       14679 non-null  bool   \n",
      " 20  lokalizacja        14679 non-null  object \n",
      " 21  url                14679 non-null  object \n",
      " 22  czy_uszkodzony     14679 non-null  bool   \n",
      "dtypes: bool(4), float64(3), int64(2), object(14)\n",
      "memory usage: 2.2+ MB\n"
     ]
    }
   ],
   "source": [
    "df.info()"
   ]
  },
  {
   "cell_type": "code",
   "execution_count": 3,
   "metadata": {},
   "outputs": [
    {
     "data": {
      "text/plain": [
       "np.int64(3007)"
      ]
     },
     "execution_count": 3,
     "metadata": {},
     "output_type": "execute_result"
    }
   ],
   "source": [
    "df['czy_cesja'].sum()"
   ]
  },
  {
   "cell_type": "code",
   "execution_count": 4,
   "metadata": {},
   "outputs": [
    {
     "data": {
      "text/plain": [
       "np.int64(718)"
      ]
     },
     "execution_count": 4,
     "metadata": {},
     "output_type": "execute_result"
    }
   ],
   "source": [
    "df['czy_uszkodzony'].sum()"
   ]
  },
  {
   "cell_type": "code",
   "execution_count": 5,
   "metadata": {},
   "outputs": [
    {
     "data": {
      "text/plain": [
       "3720"
      ]
     },
     "execution_count": 5,
     "metadata": {},
     "output_type": "execute_result"
    }
   ],
   "source": [
    "df[(df['czy_cesja']) | (df['czy_uszkodzony'])].shape[0]"
   ]
  },
  {
   "cell_type": "code",
   "execution_count": 6,
   "metadata": {},
   "outputs": [],
   "source": [
    "df_cleaned = df[~((df['czy_cesja']) | (df['czy_uszkodzony']))]"
   ]
  },
  {
   "cell_type": "code",
   "execution_count": 7,
   "metadata": {},
   "outputs": [
    {
     "name": "stderr",
     "output_type": "stream",
     "text": [
      "C:\\Users\\tthaddey\\AppData\\Local\\Temp\\ipykernel_16824\\3364323884.py:1: SettingWithCopyWarning: \n",
      "A value is trying to be set on a copy of a slice from a DataFrame.\n",
      "Try using .loc[row_indexer,col_indexer] = value instead\n",
      "\n",
      "See the caveats in the documentation: https://pandas.pydata.org/pandas-docs/stable/user_guide/indexing.html#returning-a-view-versus-a-copy\n",
      "  df_cleaned['liczba_miejsc'] = df_cleaned['liczba_miejsc'].fillna(5)\n",
      "C:\\Users\\tthaddey\\AppData\\Local\\Temp\\ipykernel_16824\\3364323884.py:2: SettingWithCopyWarning: \n",
      "A value is trying to be set on a copy of a slice from a DataFrame.\n",
      "Try using .loc[row_indexer,col_indexer] = value instead\n",
      "\n",
      "See the caveats in the documentation: https://pandas.pydata.org/pandas-docs/stable/user_guide/indexing.html#returning-a-view-versus-a-copy\n",
      "  df_cleaned['naped'] = df_cleaned['naped'].fillna(\"Na tylne koła\")\n"
     ]
    }
   ],
   "source": [
    "df_cleaned['liczba_miejsc'] = df_cleaned['liczba_miejsc'].fillna(5)\n",
    "df_cleaned['naped'] = df_cleaned['naped'].fillna(\"Na tylne koła\")"
   ]
  },
  {
   "cell_type": "code",
   "execution_count": 8,
   "metadata": {},
   "outputs": [],
   "source": [
    "df_cleaned = df_cleaned.dropna()"
   ]
  },
  {
   "cell_type": "code",
   "execution_count": 9,
   "metadata": {},
   "outputs": [],
   "source": [
    "from currency_converter import CurrencyConverter\n",
    "c = CurrencyConverter()\n",
    "\n",
    "def convert_to_pln(row):\n",
    "    if row['waluta'] != 'PLN':  # Sprawdź, czy waluta jest różna od PLN\n",
    "        try:\n",
    "            # Konwersja ceny do PLN\n",
    "            return c.convert(row['cena'], row['waluta'], 'PLN')\n",
    "        except ValueError as e:\n",
    "            print(f\"Błąd przy konwersji dla ID {row['id']}: {e}\")\n",
    "            return None  # Jeśli nie uda się przekonwertować\n",
    "    return row['cena']  # Jeśli waluta to PLN, zwróć oryginalną cenę\n",
    "\n",
    "df_cleaned['cena'] = df_cleaned.apply(convert_to_pln, axis=1)\n",
    "df_cleaned['waluta'] = 'PLN'\n"
   ]
  },
  {
   "cell_type": "code",
   "execution_count": 12,
   "metadata": {},
   "outputs": [],
   "source": [
    "df_cleaned = df_cleaned.loc[:, df_cleaned.nunique() > 1]"
   ]
  },
  {
   "cell_type": "code",
   "execution_count": 15,
   "metadata": {},
   "outputs": [],
   "source": [
    "# Konwersja kolumn na wartości numeryczne\n",
    "df_cleaned['przebieg'] = df_cleaned['przebieg'].str.replace(' km', '', regex=False).str.replace(' ', '').astype(float)\n",
    "df_cleaned['pojemnosc_silnika'] = df_cleaned['pojemnosc_silnika'].str.replace(' cm3', '', regex=False).str.replace(' ', '').astype(float)\n",
    "df_cleaned['moc_silnika'] = df_cleaned['moc_silnika'].str.replace(' KM', '', regex=False).str.replace(' ', '').astype(float)"
   ]
  },
  {
   "cell_type": "code",
   "execution_count": 16,
   "metadata": {},
   "outputs": [
    {
     "data": {
      "text/plain": [
       "id                   10714\n",
       "model                   37\n",
       "rok_produkcji           52\n",
       "przebieg              4003\n",
       "rodzaj_paliwa            5\n",
       "pojemnosc_silnika       82\n",
       "moc_silnika            166\n",
       "skrzynia_biegow          2\n",
       "naped                    5\n",
       "liczba_drzwi             4\n",
       "typ_nadwozia             9\n",
       "kolor                   17\n",
       "liczba_miejsc            7\n",
       "stan_pojazdu             2\n",
       "bezwypadkowosc           2\n",
       "cena                  2285\n",
       "czy_prywatny             2\n",
       "lokalizacja           1832\n",
       "url                  10714\n",
       "dtype: int64"
      ]
     },
     "execution_count": 16,
     "metadata": {},
     "output_type": "execute_result"
    }
   ],
   "source": [
    "df_cleaned.nunique()"
   ]
  },
  {
   "cell_type": "code",
   "execution_count": 17,
   "metadata": {},
   "outputs": [
    {
     "name": "stdout",
     "output_type": "stream",
     "text": [
      "<class 'pandas.core.frame.DataFrame'>\n",
      "Index: 10714 entries, 0 to 14677\n",
      "Data columns (total 19 columns):\n",
      " #   Column             Non-Null Count  Dtype  \n",
      "---  ------             --------------  -----  \n",
      " 0   id                 10714 non-null  int64  \n",
      " 1   model              10714 non-null  object \n",
      " 2   rok_produkcji      10714 non-null  int64  \n",
      " 3   przebieg           10714 non-null  float64\n",
      " 4   rodzaj_paliwa      10714 non-null  object \n",
      " 5   pojemnosc_silnika  10714 non-null  float64\n",
      " 6   moc_silnika        10714 non-null  float64\n",
      " 7   skrzynia_biegow    10714 non-null  object \n",
      " 8   naped              10714 non-null  object \n",
      " 9   liczba_drzwi       10714 non-null  float64\n",
      " 10  typ_nadwozia       10714 non-null  object \n",
      " 11  kolor              10714 non-null  object \n",
      " 12  liczba_miejsc      10714 non-null  float64\n",
      " 13  stan_pojazdu       10714 non-null  object \n",
      " 14  bezwypadkowosc     10714 non-null  bool   \n",
      " 15  cena               10714 non-null  float64\n",
      " 16  czy_prywatny       10714 non-null  bool   \n",
      " 17  lokalizacja        10714 non-null  object \n",
      " 18  url                10714 non-null  object \n",
      "dtypes: bool(2), float64(6), int64(2), object(9)\n",
      "memory usage: 1.5+ MB\n"
     ]
    }
   ],
   "source": [
    "df_cleaned.info()"
   ]
  },
  {
   "cell_type": "code",
   "execution_count": null,
   "metadata": {},
   "outputs": [],
   "source": [
    "df_cleaned.head(10)"
   ]
  },
  {
   "cell_type": "code",
   "execution_count": 18,
   "metadata": {},
   "outputs": [],
   "source": [
    "from pathlib import Path\n",
    "# Ścieżka do pliku wyjściowego\n",
    "output_file = Path(\"../data/clean_data.json\")\n",
    "# Zapis DataFrame do pliku JSON\n",
    "df_cleaned.to_json(output_file, orient='records', lines=True, force_ascii=False)"
   ]
  }
 ],
 "metadata": {
  "kernelspec": {
   "display_name": ".venv",
   "language": "python",
   "name": "python3"
  },
  "language_info": {
   "codemirror_mode": {
    "name": "ipython",
    "version": 3
   },
   "file_extension": ".py",
   "mimetype": "text/x-python",
   "name": "python",
   "nbconvert_exporter": "python",
   "pygments_lexer": "ipython3",
   "version": "3.12.4"
  },
  "orig_nbformat": 4
 },
 "nbformat": 4,
 "nbformat_minor": 2
}
