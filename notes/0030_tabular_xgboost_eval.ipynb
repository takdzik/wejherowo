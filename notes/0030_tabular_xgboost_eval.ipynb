{
 "cells": [
  {
   "cell_type": "code",
   "execution_count": 1,
   "metadata": {},
   "outputs": [
    {
     "name": "stderr",
     "output_type": "stream",
     "text": [
      "c:\\studia\\wejherowo_tree\\wejherowo\\.venv\\Lib\\site-packages\\tqdm\\auto.py:21: TqdmWarning: IProgress not found. Please update jupyter and ipywidgets. See https://ipywidgets.readthedocs.io/en/stable/user_install.html\n",
      "  from .autonotebook import tqdm as notebook_tqdm\n"
     ]
    }
   ],
   "source": [
    "import pandas as pd\n",
    "from pathlib import Path\n",
    "from sklearn.discriminant_analysis import StandardScaler\n",
    "from sklearn.model_selection import train_test_split\n",
    "import graphs\n",
    "\n",
    "# Wczytanie danych\n",
    "json_file = Path(\"../data/clean_data.json\")\n",
    "df = pd.read_json(json_file, orient='records', lines=True)\n",
    "\n",
    "# Zachowanie kolumny `url` do późniejszego powiązania\n",
    "urls = df[\"url\"]\n",
    "\n",
    "# Przygotowanie danych do treningu\n",
    "df = df.drop(columns=[\"id\", \"lokalizacja\", \"url\"], errors=\"ignore\")\n",
    "X = df.drop(columns=[\"cena\"])  # Wszystkie kolumny poza 'cena' jako cechy\n",
    "X = pd.get_dummies(X, columns=[\"model\", \"rodzaj_paliwa\", \"skrzynia_biegow\", \"naped\", \"typ_nadwozia\", \"kolor\", \"stan_pojazdu\"], drop_first=True)\n",
    "X[['rok_produkcji', 'przebieg', 'pojemnosc_silnika', 'moc_silnika', 'liczba_drzwi', 'liczba_miejsc']] = StandardScaler().fit_transform(X[['rok_produkcji', 'przebieg', 'pojemnosc_silnika', 'moc_silnika', 'liczba_drzwi', 'liczba_miejsc']])\n",
    "y = df[\"cena\"]  # Kolumna 'cena' jako cel\n",
    "\n",
    "# Podział na zbiory treningowe i testowe\n",
    "X_train, X_test, y_train, y_test, urls_train, urls_test = train_test_split(X, y, urls, test_size=0.2, random_state=42)\n"
   ]
  },
  {
   "cell_type": "code",
   "execution_count": null,
   "metadata": {},
   "outputs": [],
   "source": [
    "import joblib\n",
    "from sklearn.metrics import mean_squared_error, mean_absolute_error\n",
    "\n",
    "# Ścieżka do pliku modelu\n",
    "model_file = Path(\"../models/final_model_xgboost.pkl\")\n",
    "\n",
    "# Wczytanie modelu\n",
    "if model_file.exists():\n",
    "    loaded_model = joblib.load(model_file)\n",
    "    print(f\"Model wczytany z pliku: {model_file}\")\n",
    "else:\n",
    "    raise FileNotFoundError(f\"Plik {model_file} nie istnieje.\")\n",
    "\n",
    "# Predykcja na zbiorze testowym\n",
    "y_test_pred = loaded_model.predict(X_test)\n",
    "\n",
    "# Obliczenie metryk\n",
    "test_rmse = mean_squared_error(y_test, y_test_pred, squared=False)\n",
    "test_mae = mean_absolute_error(y_test, y_test_pred)\n",
    "test_percentage_error = ((abs(y_test - y_test_pred) / y_test) * 100).mean()\n",
    "\n",
    "# Wyświetlenie wyników\n",
    "print(\"Ewaluacja modelu na zbiorze testowym:\")\n",
    "print(f\"RMSE: {test_rmse:.2f} PLN\")\n",
    "print(f\"Średni błąd w PLN (MAE): {test_mae:.2f} PLN\")\n",
    "print(f\"Średnia procentowa rozbieżność: {test_percentage_error:.2f}%\")\n"
   ]
  },
  {
   "cell_type": "code",
   "execution_count": 3,
   "metadata": {},
   "outputs": [
    {
     "name": "stdout",
     "output_type": "stream",
     "text": [
      "Dane zostały zapisane do ..\\data\\interactive_data.json\n"
     ]
    }
   ],
   "source": [
    "from utils import save_to_json\n",
    "\n",
    "save_to_json(y_test_pred, y_test, urls_test, path=\"../data/interactive_data.json\")"
   ]
  },
  {
   "cell_type": "code",
   "execution_count": null,
   "metadata": {},
   "outputs": [],
   "source": [
    "graphs.residuals_hist(y_test_pred, y_test)"
   ]
  },
  {
   "cell_type": "code",
   "execution_count": null,
   "metadata": {},
   "outputs": [],
   "source": [
    "# Przykład użycia funkcji\n",
    "graphs.plot_percentage_error_histogram(y_test_pred, y_test, 40)"
   ]
  }
 ],
 "metadata": {
  "kernelspec": {
   "display_name": ".venv",
   "language": "python",
   "name": "python3"
  },
  "language_info": {
   "codemirror_mode": {
    "name": "ipython",
    "version": 3
   },
   "file_extension": ".py",
   "mimetype": "text/x-python",
   "name": "python",
   "nbconvert_exporter": "python",
   "pygments_lexer": "ipython3",
   "version": "3.12.4"
  },
  "orig_nbformat": 4
 },
 "nbformat": 4,
 "nbformat_minor": 2
}
