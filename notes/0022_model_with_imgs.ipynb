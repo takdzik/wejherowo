{
 "cells": [
  {
   "cell_type": "code",
   "execution_count": 1,
   "metadata": {},
   "outputs": [],
   "source": [
    "import torch\n",
    "import torch.nn as nn\n",
    "import torchvision.models as models\n",
    "import torchvision.transforms as transforms\n",
    "from torch.utils.data import Dataset, DataLoader\n",
    "import pandas as pd\n",
    "from PIL import Image"
   ]
  },
  {
   "cell_type": "code",
   "execution_count": 7,
   "metadata": {},
   "outputs": [],
   "source": [
    "class CarDataset(Dataset):\n",
    "    def __init__(self, csv_file, image_dir, transform=None):\n",
    "        self.data = pd.read_json(csv_file, lines=True)\n",
    "        self.image_dir = image_dir\n",
    "        self.transform = transform\n",
    "\n",
    "        # One-Hot Encoding dla zmiennych kategorycznych\n",
    "        self.data = pd.get_dummies(self.data, columns=['fuel_type', 'gearbox', 'model', 'car_type_main'], drop_first=True)\n",
    "\n",
    "    def __len__(self):\n",
    "        return len(self.data)\n",
    "\n",
    "    def __getitem__(self, idx):\n",
    "        # Ładowanie obrazu\n",
    "        img_name = f\"{self.image_dir}/{self.data.iloc[idx]['img_local']}\"\n",
    "        image = Image.open(img_name).convert('RGB')\n",
    "        if self.transform:\n",
    "            image = self.transform(image)\n",
    "\n",
    "        # Pobranie danych tabelarycznych (bez kolumny price i img_local)\n",
    "        tabular_data = self.data.drop(columns=['price', 'img_local']).iloc[idx].values.astype(float)\n",
    "        \n",
    "        # Pobranie ceny jako celu\n",
    "        price = self.data.iloc[idx]['price']\n",
    "        \n",
    "        return {'image': image, 'tabular': torch.tensor(tabular_data, dtype=torch.float32), 'price': torch.tensor(price, dtype=torch.float32)}\n"
   ]
  },
  {
   "cell_type": "code",
   "execution_count": 8,
   "metadata": {},
   "outputs": [],
   "source": [
    "transform = transforms.Compose([\n",
    "    transforms.Resize((224, 224)),\n",
    "    transforms.ToTensor(),\n",
    "    transforms.Normalize([0.485, 0.456, 0.406], [0.229, 0.224, 0.225])\n",
    "])\n",
    "\n",
    "dataset = CarDataset(csv_file='..\\\\..\\\\train_data_with_car_type.json', image_dir='..\\\\..\\\\data_img', transform=transform)\n",
    "dataloader = DataLoader(dataset, batch_size=32, shuffle=True)\n"
   ]
  },
  {
   "cell_type": "code",
   "execution_count": 13,
   "metadata": {},
   "outputs": [],
   "source": [
    "import torch.nn as nn\n",
    "import torchvision.models as models\n",
    "\n",
    "class CarPricePredictor(nn.Module):\n",
    "    def __init__(self, tabular_input_dim):\n",
    "        super(CarPricePredictor, self).__init__()\n",
    "        \n",
    "        # Ekstraktor cech obrazu - ResNet (bez warstwy końcowej klasyfikacji)\n",
    "        self.cnn = models.resnet18(pretrained=True)\n",
    "        self.cnn = nn.Sequential(*list(self.cnn.children())[:-1])  # Usuwamy ostatnią warstwę FC\n",
    "        self.cnn_out_features = 512  # ResNet18 ma 512 wyjściowych cech z ostatniej warstwy\n",
    "\n",
    "        # Sieć MLP dla danych tabelarycznych\n",
    "        self.tabular_mlp = nn.Sequential(\n",
    "            nn.Linear(tabular_input_dim, 64),\n",
    "            nn.ReLU(),\n",
    "            nn.Linear(64, 32),\n",
    "            nn.ReLU()\n",
    "        )\n",
    "\n",
    "        # Połączenie wyjść CNN i MLP\n",
    "        self.fc = nn.Sequential(\n",
    "            nn.Linear(self.cnn_out_features + 32, 128),\n",
    "            nn.ReLU(),\n",
    "            nn.Linear(128, 64),\n",
    "            nn.ReLU(),\n",
    "            nn.Linear(64, 1)  # Wyjście przewidujące cenę\n",
    "        )\n",
    "\n",
    "    def forward(self, image, tabular):\n",
    "        # Przepuszczenie obrazu przez CNN\n",
    "        cnn_features = self.cnn(image)\n",
    "        cnn_features = cnn_features.view(cnn_features.size(0), -1)\n",
    "\n",
    "        # Przepuszczenie danych tabelarycznych przez MLP\n",
    "        tabular_features = self.tabular_mlp(tabular)\n",
    "\n",
    "        # Połączenie cech z CNN i MLP\n",
    "        combined_features = torch.cat((cnn_features, tabular_features), dim=1)\n",
    "\n",
    "        # Predykcja ceny\n",
    "        output = self.fc(combined_features)\n",
    "        return output\n"
   ]
  },
  {
   "cell_type": "code",
   "execution_count": 14,
   "metadata": {},
   "outputs": [
    {
     "name": "stdout",
     "output_type": "stream",
     "text": [
      "Wymiar wejściowy dla danych tabelarycznych: 263\n"
     ]
    }
   ],
   "source": [
    "# Zakodowanie zmiennych kategorycznych i obliczenie liczby cech tabelarycznych\n",
    "data = pd.read_json('..\\\\..\\\\train_data_with_car_type.json', lines=True)\n",
    "data_encoded = pd.get_dummies(data, columns=['fuel_type', 'gearbox', 'model', 'car_type_main'], drop_first=True)\n",
    "tabular_input_dim = data_encoded.drop(columns=['price', 'img_local']).shape[1]\n",
    "print(\"Wymiar wejściowy dla danych tabelarycznych:\", tabular_input_dim)"
   ]
  },
  {
   "cell_type": "code",
   "execution_count": 15,
   "metadata": {},
   "outputs": [
    {
     "name": "stderr",
     "output_type": "stream",
     "text": [
      "c:\\studia\\wejherowo_tree\\wejherowo\\.venv\\Lib\\site-packages\\torchvision\\models\\_utils.py:208: UserWarning: The parameter 'pretrained' is deprecated since 0.13 and may be removed in the future, please use 'weights' instead.\n",
      "  warnings.warn(\n",
      "c:\\studia\\wejherowo_tree\\wejherowo\\.venv\\Lib\\site-packages\\torchvision\\models\\_utils.py:223: UserWarning: Arguments other than a weight enum or `None` for 'weights' are deprecated since 0.13 and may be removed in the future. The current behavior is equivalent to passing `weights=ResNet18_Weights.IMAGENET1K_V1`. You can also use `weights=ResNet18_Weights.DEFAULT` to get the most up-to-date weights.\n",
      "  warnings.warn(msg)\n"
     ]
    },
    {
     "name": "stdout",
     "output_type": "stream",
     "text": [
      "Epoch [1/10], Loss: 27716418043.9040\n"
     ]
    }
   ],
   "source": [
    "import torch.optim as optim\n",
    "\n",
    "# Inicjalizacja modelu, optymalizatora i funkcji straty\n",
    "model = CarPricePredictor(tabular_input_dim=tabular_input_dim)\n",
    "criterion = nn.MSELoss()\n",
    "optimizer = optim.Adam(model.parameters(), lr=0.001)\n",
    "\n",
    "# Trening\n",
    "num_epochs = 10\n",
    "for epoch in range(num_epochs):\n",
    "    model.train()\n",
    "    running_loss = 0.0\n",
    "    for batch in dataloader:\n",
    "        images = batch['image']\n",
    "        tabular_data = batch['tabular']\n",
    "        prices = batch['price']\n",
    "\n",
    "        optimizer.zero_grad()\n",
    "\n",
    "        # Forward pass\n",
    "        outputs = model(images, tabular_data).squeeze()\n",
    "        loss = criterion(outputs, prices)\n",
    "\n",
    "        # Backward pass i optymalizacja\n",
    "        loss.backward()\n",
    "        optimizer.step()\n",
    "\n",
    "        running_loss += loss.item()\n",
    "\n",
    "    print(f\"Epoch [{epoch+1}/{num_epochs}], Loss: {running_loss/len(dataloader):.4f}\")\n"
   ]
  }
 ],
 "metadata": {
  "kernelspec": {
   "display_name": ".venv",
   "language": "python",
   "name": "python3"
  },
  "language_info": {
   "codemirror_mode": {
    "name": "ipython",
    "version": 3
   },
   "file_extension": ".py",
   "mimetype": "text/x-python",
   "name": "python",
   "nbconvert_exporter": "python",
   "pygments_lexer": "ipython3",
   "version": "3.12.4"
  },
  "orig_nbformat": 4
 },
 "nbformat": 4,
 "nbformat_minor": 2
}
