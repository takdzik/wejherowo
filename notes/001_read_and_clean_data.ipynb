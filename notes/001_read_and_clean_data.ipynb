{
 "cells": [
  {
   "cell_type": "code",
   "execution_count": 1,
   "metadata": {},
   "outputs": [],
   "source": [
    "import json\n",
    "import pandas as pd"
   ]
  },
  {
   "cell_type": "code",
   "execution_count": 2,
   "metadata": {},
   "outputs": [],
   "source": [
    "def read_json_from_file(file_path):\n",
    "    with open(file_path, 'r', encoding='utf-8') as file:\n",
    "        json_data = json.load(file)\n",
    "    return json_data"
   ]
  },
  {
   "cell_type": "code",
   "execution_count": 3,
   "metadata": {},
   "outputs": [],
   "source": [
    "def json_to_dataframe(json_data):\n",
    "    df = pd.DataFrame(json_data)\n",
    "    return df"
   ]
  },
  {
   "cell_type": "code",
   "execution_count": 4,
   "metadata": {},
   "outputs": [],
   "source": [
    "def extract_info(title):\n",
    "        brand = \"BMW\"\n",
    "        model = None\n",
    "        car_type = None\n",
    "        \n",
    "        # Define the possible models\n",
    "        possible_models = [\n",
    "            \"1M\", \"3GT\", \"5GT\", \"6GT\", \"i3\", \"i4\", \"i5\", \"i7\", \"i8\", \"Inny\", \"iX\", \"iX1\", \"iX2\", \"iX3\",\n",
    "            \"M2\", \"M3\", \"M4\", \"M5\", \"M6\", \"M8\", \"Seria 1\", \"Seria 2\", \"Seria 3\", \"Seria 4\", \"Seria 5\",\n",
    "            \"Seria 6\", \"Seria 7\", \"Seria 8\", \"X1 M\", \"X2 M\", \"X3 M\", \"X4 M\", \"X5 M\", \"X6 M\", \"X7 M\", \"XM\", \"Z1 M\", \"Z3 M\", \"Z4 M\", \"Z8 M\",\n",
    "            \"X1\", \"X2\", \"X3\", \"X4\", \"X5\", \"X6\", \"X7\", \"Z1\", \"Z3\", \"Z4\", \"Z8\"\n",
    "        ]\n",
    "        \n",
    "        # Try to match the model from the title\n",
    "        for m in possible_models:\n",
    "            if m in title:\n",
    "                model = m\n",
    "                _car_type = title.split(m)\n",
    "                if len(_car_type) > 1 and _car_type[1]:\n",
    "                    car_type = _car_type[1].strip()\n",
    "                break\n",
    "        \n",
    "        return brand, model, car_type"
   ]
  },
  {
   "cell_type": "code",
   "execution_count": 5,
   "metadata": {},
   "outputs": [
    {
     "name": "stdout",
     "output_type": "stream",
     "text": [
      "Title BMW M5\n",
      "Title BMW M5 passed\n",
      "Title BMW X1 xDrive18d xLine\n",
      "Title BMW X1 xDrive18d xLine passed\n",
      "Title BMW M3\n",
      "Title BMW M3 passed\n",
      "Title BMW Seria 5\n",
      "Title BMW Seria 5 passed\n",
      "Title BMW X5 3.0 d Edition Exclusive\n",
      "Title BMW X5 3.0 d Edition Exclusive passed\n",
      "Title BMW Seria 3 330i Sport Line\n",
      "Title BMW Seria 3 330i Sport Line passed\n",
      "Title BMW X6 40d xDrive\n",
      "Title BMW X6 40d xDrive passed\n",
      "Title BMW Seria 1 116i\n",
      "Title BMW Seria 1 116i passed\n",
      "Title BMW X5 xDrive25d sport\n",
      "Title BMW X5 xDrive25d sport passed\n",
      "Title BMW Seria 3 320d DPF Touring Edition Fleet\n",
      "Title BMW Seria 3 320d DPF Touring Edition Fleet passed\n"
     ]
    }
   ],
   "source": [
    "def test_extract_info():\n",
    "    # Prepare sample data\n",
    "    data = [\n",
    "        \"BMW M5\",\n",
    "        \"BMW X1 xDrive18d xLine\",\n",
    "        \"BMW M3\",\n",
    "        \"BMW Seria 5\",\n",
    "        \"BMW X5 3.0 d Edition Exclusive\",\n",
    "        \"BMW Seria 3 330i Sport Line\",\n",
    "        \"BMW X6 40d xDrive\",\n",
    "        \"BMW Seria 1 116i\",\n",
    "        \"BMW X5 xDrive25d sport\",\n",
    "        \"BMW Seria 3 320d DPF Touring Edition Fleet\",\n",
    "    ]\n",
    "    # Define expected results\n",
    "    expected_brands = [\"BMW\"] * len(data)\n",
    "    expected_models = [\"M5\", \"X1\", \"M3\", \"Seria 5\", \"X5\", \"Seria 3\", \"X6\", \"Seria 1\", \"X5\", \"Seria 3\"]\n",
    "    expected_car_types = [\n",
    "        None,\n",
    "        \"xDrive18d xLine\",\n",
    "        None,\n",
    "        None,\n",
    "        \"3.0 d Edition Exclusive\",\n",
    "        \"330i Sport Line\",\n",
    "        \"40d xDrive\",\n",
    "        \"116i\",\n",
    "        \"xDrive25d sport\",\n",
    "        \"320d DPF Touring Edition Fleet\"\n",
    "    ]\n",
    "    \n",
    "    for t,b,m,c in zip(data, expected_brands, expected_models, expected_car_types):\n",
    "        print(f\"Title {t}\")\n",
    "        got_b, got_m, got_c = extract_info(t)\n",
    "        assert got_b == b, f\"Expected brands {b}, but got {got_b}\"\n",
    "        assert got_m == m, f\"Expected models {m}, but got {got_m}\"\n",
    "        assert got_c == c, f\"Expected car types {c}, but got {got_c}\"\n",
    "        print(f\"Title {t} passed\")\n",
    "\n",
    "# Run the test\n",
    "test_extract_info()"
   ]
  },
  {
   "cell_type": "code",
   "execution_count": 6,
   "metadata": {},
   "outputs": [],
   "source": [
    "def convert_price(row):\n",
    "    if row['price_currency'] == \"EUR\":\n",
    "        return row['price'] * 4.33\n",
    "    return row['price']"
   ]
  },
  {
   "cell_type": "code",
   "execution_count": 7,
   "metadata": {},
   "outputs": [],
   "source": [
    "#read data\n",
    "file_path = '../../data.json'\n",
    "json_data = read_json_from_file(file_path)\n",
    "df = json_to_dataframe(json_data)\n",
    "#print(df.info())\n",
    "#print(df.head(5))"
   ]
  },
  {
   "cell_type": "code",
   "execution_count": 8,
   "metadata": {},
   "outputs": [
    {
     "name": "stdout",
     "output_type": "stream",
     "text": [
      "<class 'pandas.core.frame.DataFrame'>\n",
      "Index: 6377 entries, 0 to 6399\n",
      "Data columns (total 10 columns):\n",
      " #   Column          Non-Null Count  Dtype  \n",
      "---  ------          --------------  -----  \n",
      " 0   id              6377 non-null   object \n",
      " 1   img_local       5274 non-null   object \n",
      " 2   type_of_seller  4206 non-null   object \n",
      " 3   price           6377 non-null   float64\n",
      " 4   mileage         6377 non-null   object \n",
      " 5   fuel_type       6377 non-null   object \n",
      " 6   gearbox         6377 non-null   object \n",
      " 7   year            6377 non-null   int64  \n",
      " 8   model           6377 non-null   object \n",
      " 9   car_type        4723 non-null   object \n",
      "dtypes: float64(1), int64(1), object(8)\n",
      "memory usage: 806.1+ KB\n",
      "None\n",
      "                id            img_local       type_of_seller     price  \\\n",
      "0  619888553496191  619888553496191.jpg                 None  255000.0   \n",
      "1  878738710972359  878738710972359.jpg                 None  249600.0   \n",
      "2  325534139055352  325534139055352.jpg  Prywatny sprzedawca   52990.0   \n",
      "3  586230984198372  586230984198372.jpg  Prywatny sprzedawca  149000.0   \n",
      "4  301505465645954  301505465645954.jpg  Prywatny sprzedawca   38000.0   \n",
      "\n",
      "      mileage fuel_type       gearbox  year    model  \\\n",
      "0        6 km    Diesel  Automatyczna  2023  Seria 3   \n",
      "1        5 km    Diesel  Automatyczna  2024       X3   \n",
      "2  230 000 km    Diesel  Automatyczna  2016  Seria 3   \n",
      "3  189 000 km    Diesel  Automatyczna  2017  Seria 7   \n",
      "4  200 000 km    Diesel      Manualna  2016  Seria 3   \n",
      "\n",
      "                    car_type  \n",
      "0  320d xDrive M Sport sport  \n",
      "1          xDrive20d M Sport  \n",
      "2       320d Touring M Sport  \n",
      "3                740d xDrive  \n",
      "4             318d Advantage  \n"
     ]
    }
   ],
   "source": [
    "cleaned_data = df.drop_duplicates(subset=\"id\")\n",
    "cleaned_data = cleaned_data.drop(columns=['url', 'image_url'])\n",
    "cleaned_data[['brand', 'model', 'car_type']] = cleaned_data['title'].apply(lambda x: pd.Series(extract_info(x)))\n",
    "cleaned_data = cleaned_data.drop(columns=['title', 'brand'])\n",
    "cleaned_data.columns = cleaned_data.columns.str.lower().str.strip().str.replace(' ', '_')\n",
    "cleaned_data['price'] = cleaned_data['price'].str.replace(' ', '').astype(int)\n",
    "cleaned_data['year'] = cleaned_data['year'].str.replace(' ', '').astype(int)\n",
    "cleaned_data['price'] = cleaned_data.apply(convert_price, axis=1)\n",
    "cleaned_data = cleaned_data.drop(columns=['price_currency'])\n",
    "\n",
    "cleaned_data.to_json('../../cleaned_base_data.json', orient='records', lines=True)\n",
    "\n",
    "print(cleaned_data.info())\n",
    "print(cleaned_data.head(5))"
   ]
  }
 ],
 "metadata": {
  "kernelspec": {
   "display_name": ".venv",
   "language": "python",
   "name": "python3"
  },
  "language_info": {
   "codemirror_mode": {
    "name": "ipython",
    "version": 3
   },
   "file_extension": ".py",
   "mimetype": "text/x-python",
   "name": "python",
   "nbconvert_exporter": "python",
   "pygments_lexer": "ipython3",
   "version": "3.12.4"
  },
  "orig_nbformat": 4
 },
 "nbformat": 4,
 "nbformat_minor": 2
}
