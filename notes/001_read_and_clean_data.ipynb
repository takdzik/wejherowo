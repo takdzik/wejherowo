{
 "cells": [
  {
   "cell_type": "code",
   "execution_count": 1,
   "metadata": {},
   "outputs": [],
   "source": [
    "import json\n",
    "import pandas as pd"
   ]
  },
  {
   "cell_type": "code",
   "execution_count": 2,
   "metadata": {},
   "outputs": [],
   "source": [
    "def read_json_from_file(file_path):\n",
    "    with open(file_path, 'r', encoding='utf-8') as file:\n",
    "        json_data = json.load(file)\n",
    "    return json_data"
   ]
  },
  {
   "cell_type": "code",
   "execution_count": 3,
   "metadata": {},
   "outputs": [],
   "source": [
    "def json_to_dataframe(json_data):\n",
    "    df = pd.DataFrame(json_data)\n",
    "    return df"
   ]
  },
  {
   "cell_type": "code",
   "execution_count": 5,
   "metadata": {},
   "outputs": [
    {
     "name": "stdout",
     "output_type": "stream",
     "text": [
      "                                      title  \\\n",
      "0     BMW Seria 3 320d xDrive M Sport sport   \n",
      "1                  BMW X3 xDrive20d M Sport   \n",
      "2          BMW Seria 3 320d Touring M Sport   \n",
      "3                   BMW Seria 7 740d xDrive   \n",
      "4                BMW Seria 3 318d Advantage   \n",
      "...                                     ...   \n",
      "6395                       BMW X3 xDrive30i   \n",
      "6396                      BMW X3 28i xDrive   \n",
      "6397                            BMW X5 4.4i   \n",
      "6398                            BMW Seria 5   \n",
      "6399               BMW X3 xDrive20d M Sport   \n",
      "\n",
      "                                                    url               id  \\\n",
      "0     https://www.otomoto.pl/osobowe/oferta/bmw-seri...  619888553496191   \n",
      "1     https://www.otomoto.pl/osobowe/oferta/bmw-x3-x...  878738710972359   \n",
      "2     https://www.otomoto.pl/osobowe/oferta/bmw-seri...  325534139055352   \n",
      "3     https://www.otomoto.pl/osobowe/oferta/bmw-seri...  586230984198372   \n",
      "4     https://www.otomoto.pl/osobowe/oferta/bmw-seri...  301505465645954   \n",
      "...                                                 ...              ...   \n",
      "6395  https://www.otomoto.pl/osobowe/oferta/bmw-x3-b...  106774214418764   \n",
      "6396  https://www.otomoto.pl/osobowe/oferta/bmw-x3-b...  986152039771263   \n",
      "6397  https://www.otomoto.pl/osobowe/oferta/bmw-x5-b...  704000702568106   \n",
      "6398  https://www.otomoto.pl/osobowe/oferta/bmw-seri...  570294445491870   \n",
      "6399  https://www.otomoto.pl/osobowe/oferta/bmw-x3-b...  241496918592314   \n",
      "\n",
      "                                              image_url            img_local  \\\n",
      "0     https://ireland.apollo.olxcdn.com/v1/files/eyJ...  619888553496191.jpg   \n",
      "1     https://ireland.apollo.olxcdn.com/v1/files/eyJ...  878738710972359.jpg   \n",
      "2     https://ireland.apollo.olxcdn.com/v1/files/eyJ...  325534139055352.jpg   \n",
      "3     https://ireland.apollo.olxcdn.com/v1/files/eyJ...  586230984198372.jpg   \n",
      "4     https://ireland.apollo.olxcdn.com/v1/files/eyJ...  301505465645954.jpg   \n",
      "...                                                 ...                  ...   \n",
      "6395  https://ireland.apollo.olxcdn.com/v1/files/eyJ...  106774214418764.jpg   \n",
      "6396  https://ireland.apollo.olxcdn.com/v1/files/eyJ...  986152039771263.jpg   \n",
      "6397  https://ireland.apollo.olxcdn.com/v1/files/eyJ...  704000702568106.jpg   \n",
      "6398  https://ireland.apollo.olxcdn.com/v1/files/eyJ...  570294445491870.jpg   \n",
      "6399  https://ireland.apollo.olxcdn.com/v1/files/eyJ...  241496918592314.jpg   \n",
      "\n",
      "           type_of_seller    price price_currency     mileage    fuel_type  \\\n",
      "0                    None  255 000            PLN        6 km       Diesel   \n",
      "1                    None  249 600            PLN        5 km       Diesel   \n",
      "2     Prywatny sprzedawca   52 990            PLN  230 000 km       Diesel   \n",
      "3     Prywatny sprzedawca  149 000            PLN  189 000 km       Diesel   \n",
      "4     Prywatny sprzedawca   38 000            PLN  200 000 km       Diesel   \n",
      "...                   ...      ...            ...         ...          ...   \n",
      "6395                 None  121 000            PLN   55 243 km      Benzyna   \n",
      "6396  Prywatny sprzedawca   49 700            PLN  203 144 km      Benzyna   \n",
      "6397  Prywatny sprzedawca   16 800            PLN  290 000 km  Benzyna+LPG   \n",
      "6398                 None   23 900            PLN  308 000 km       Diesel   \n",
      "6399                 None  239 900            PLN   24 809 km       Diesel   \n",
      "\n",
      "           gearbox   year  \n",
      "0     Automatyczna  2023   \n",
      "1     Automatyczna  2024   \n",
      "2     Automatyczna  2016   \n",
      "3     Automatyczna  2017   \n",
      "4         Manualna  2016   \n",
      "...            ...    ...  \n",
      "6395  Automatyczna  2022   \n",
      "6396  Automatyczna  2011   \n",
      "6397  Automatyczna  2000   \n",
      "6398      Manualna  2010   \n",
      "6399  Automatyczna  2023   \n",
      "\n",
      "[6400 rows x 12 columns]\n"
     ]
    }
   ],
   "source": [
    "file_path = '../../data.json'\n",
    "json_data = read_json_from_file(file_path)\n",
    "df = json_to_dataframe(json_data)\n",
    "print(df.info())\n",
    "print(df.head(5))"
   ]
  }
 ],
 "metadata": {
  "kernelspec": {
   "display_name": ".venv",
   "language": "python",
   "name": "python3"
  },
  "language_info": {
   "codemirror_mode": {
    "name": "ipython",
    "version": 3
   },
   "file_extension": ".py",
   "mimetype": "text/x-python",
   "name": "python",
   "nbconvert_exporter": "python",
   "pygments_lexer": "ipython3",
   "version": "3.12.4"
  },
  "orig_nbformat": 4
 },
 "nbformat": 4,
 "nbformat_minor": 2
}
