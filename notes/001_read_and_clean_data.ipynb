{
 "cells": [
  {
   "cell_type": "code",
   "execution_count": 1,
   "metadata": {},
   "outputs": [],
   "source": [
    "import json\n",
    "import pandas as pd"
   ]
  },
  {
   "cell_type": "code",
   "execution_count": 2,
   "metadata": {},
   "outputs": [],
   "source": [
    "def read_json_from_file(file_path):\n",
    "    with open(file_path, 'r', encoding='utf-8') as file:\n",
    "        json_data = json.load(file)\n",
    "    return json_data"
   ]
  },
  {
   "cell_type": "code",
   "execution_count": 3,
   "metadata": {},
   "outputs": [],
   "source": [
    "def json_to_dataframe(json_data):\n",
    "    df = pd.DataFrame(json_data)\n",
    "    return df"
   ]
  },
  {
   "cell_type": "code",
   "execution_count": 4,
   "metadata": {},
   "outputs": [],
   "source": [
    "def extract_info(title):\n",
    "        brand = \"BMW\"\n",
    "        model = None\n",
    "        car_type = None\n",
    "        \n",
    "        # Define the possible models\n",
    "        possible_models = [\n",
    "            \"1M\", \"3GT\", \"5GT\", \"6GT\", \"i3\", \"i4\", \"i5\", \"i7\", \"i8\", \"Inny\", \"iX\", \"iX1\", \"iX2\", \"iX3\",\n",
    "            \"M2\", \"M3\", \"M4\", \"M5\", \"M6\", \"M8\", \"Seria 1\", \"Seria 2\", \"Seria 3\", \"Seria 4\", \"Seria 5\",\n",
    "            \"Seria 6\", \"Seria 7\", \"Seria 8\", \"X1 M\", \"X2 M\", \"X3 M\", \"X4 M\", \"X5 M\", \"X6 M\", \"X7 M\", \"XM\", \"Z1 M\", \"Z3 M\", \"Z4 M\", \"Z8 M\",\n",
    "            \"X1\", \"X2\", \"X3\", \"X4\", \"X5\", \"X6\", \"X7\", \"Z1\", \"Z3\", \"Z4\", \"Z8\"\n",
    "        ]\n",
    "        \n",
    "        # Try to match the model from the title\n",
    "        for m in possible_models:\n",
    "            if m in title:\n",
    "                model = m\n",
    "                _car_type = title.split(m)\n",
    "                if len(_car_type) > 1 and _car_type[1]:\n",
    "                    car_type = _car_type[1].strip()\n",
    "                break\n",
    "        \n",
    "        return brand, model, car_type"
   ]
  },
  {
   "cell_type": "code",
   "execution_count": 5,
   "metadata": {},
   "outputs": [
    {
     "name": "stdout",
     "output_type": "stream",
     "text": [
      "Title BMW M5\n",
      "Title BMW M5 passed\n",
      "Title BMW X1 xDrive18d xLine\n",
      "Title BMW X1 xDrive18d xLine passed\n",
      "Title BMW M3\n",
      "Title BMW M3 passed\n",
      "Title BMW Seria 5\n",
      "Title BMW Seria 5 passed\n",
      "Title BMW X5 3.0 d Edition Exclusive\n",
      "Title BMW X5 3.0 d Edition Exclusive passed\n",
      "Title BMW Seria 3 330i Sport Line\n",
      "Title BMW Seria 3 330i Sport Line passed\n",
      "Title BMW X6 40d xDrive\n",
      "Title BMW X6 40d xDrive passed\n",
      "Title BMW Seria 1 116i\n",
      "Title BMW Seria 1 116i passed\n",
      "Title BMW X5 xDrive25d sport\n",
      "Title BMW X5 xDrive25d sport passed\n",
      "Title BMW Seria 3 320d DPF Touring Edition Fleet\n",
      "Title BMW Seria 3 320d DPF Touring Edition Fleet passed\n"
     ]
    }
   ],
   "source": [
    "def test_extract_info():\n",
    "    # Prepare sample data\n",
    "    data = [\n",
    "        \"BMW M5\",\n",
    "        \"BMW X1 xDrive18d xLine\",\n",
    "        \"BMW M3\",\n",
    "        \"BMW Seria 5\",\n",
    "        \"BMW X5 3.0 d Edition Exclusive\",\n",
    "        \"BMW Seria 3 330i Sport Line\",\n",
    "        \"BMW X6 40d xDrive\",\n",
    "        \"BMW Seria 1 116i\",\n",
    "        \"BMW X5 xDrive25d sport\",\n",
    "        \"BMW Seria 3 320d DPF Touring Edition Fleet\",\n",
    "    ]\n",
    "    # Define expected results\n",
    "    expected_brands = [\"BMW\"] * len(data)\n",
    "    expected_models = [\"M5\", \"X1\", \"M3\", \"Seria 5\", \"X5\", \"Seria 3\", \"X6\", \"Seria 1\", \"X5\", \"Seria 3\"]\n",
    "    expected_car_types = [\n",
    "        None,\n",
    "        \"xDrive18d xLine\",\n",
    "        None,\n",
    "        None,\n",
    "        \"3.0 d Edition Exclusive\",\n",
    "        \"330i Sport Line\",\n",
    "        \"40d xDrive\",\n",
    "        \"116i\",\n",
    "        \"xDrive25d sport\",\n",
    "        \"320d DPF Touring Edition Fleet\"\n",
    "    ]\n",
    "    \n",
    "    for t,b,m,c in zip(data, expected_brands, expected_models, expected_car_types):\n",
    "        print(f\"Title {t}\")\n",
    "        got_b, got_m, got_c = extract_info(t)\n",
    "        assert got_b == b, f\"Expected brands {b}, but got {got_b}\"\n",
    "        assert got_m == m, f\"Expected models {m}, but got {got_m}\"\n",
    "        assert got_c == c, f\"Expected car types {c}, but got {got_c}\"\n",
    "        print(f\"Title {t} passed\")\n",
    "\n",
    "# Run the test\n",
    "test_extract_info()"
   ]
  },
  {
   "cell_type": "code",
   "execution_count": 6,
   "metadata": {},
   "outputs": [],
   "source": [
    "def convert_price(row):\n",
    "    if row['price_currency'] == \"EUR\":\n",
    "        return row['price'] * 4.33\n",
    "    return row['price']"
   ]
  },
  {
   "cell_type": "code",
   "execution_count": 7,
   "metadata": {},
   "outputs": [
    {
     "name": "stdout",
     "output_type": "stream",
     "text": [
      "<class 'pandas.core.frame.DataFrame'>\n",
      "RangeIndex: 6400 entries, 0 to 6399\n",
      "Data columns (total 12 columns):\n",
      " #   Column          Non-Null Count  Dtype \n",
      "---  ------          --------------  ----- \n",
      " 0   title           6400 non-null   object\n",
      " 1   url             6400 non-null   object\n",
      " 2   id              6400 non-null   object\n",
      " 3   image_url       6396 non-null   object\n",
      " 4   img_local       6344 non-null   object\n",
      " 5   type_of_seller  4221 non-null   object\n",
      " 6   price           6400 non-null   object\n",
      " 7   price_currency  6400 non-null   object\n",
      " 8   mileage         6400 non-null   object\n",
      " 9   fuel_type       6400 non-null   object\n",
      " 10  gearbox         6400 non-null   object\n",
      " 11  year            6400 non-null   object\n",
      "dtypes: object(12)\n",
      "memory usage: 600.1+ KB\n",
      "None\n"
     ]
    }
   ],
   "source": [
    "#read data\n",
    "file_path = '../../data.json'\n",
    "json_data = read_json_from_file(file_path)\n",
    "df = json_to_dataframe(json_data)\n",
    "print(df.info())\n",
    "#print(df.head(5))"
   ]
  },
  {
   "cell_type": "code",
   "execution_count": 8,
   "metadata": {},
   "outputs": [],
   "source": [
    "# cleanning part 1\n",
    "cleaned_data = df.drop_duplicates(subset=\"id\")\n",
    "cleaned_data = df[df['img_local'].notna()]\n",
    "cleaned_data = cleaned_data.drop(columns=['url', 'image_url', 'id'])\n",
    "cleaned_data[['brand', 'model', 'car_type']] = cleaned_data['title'].apply(lambda x: pd.Series(extract_info(x)))\n",
    "cleaned_data = cleaned_data.drop(columns=['title', 'brand'])\n",
    "cleaned_data.columns = cleaned_data.columns.str.lower().str.strip().str.replace(' ', '_')\n",
    "cleaned_data['price'] = cleaned_data['price'].str.replace(' ', '').astype(int)\n",
    "cleaned_data['year'] = cleaned_data['year'].str.replace(' ', '').astype(int)\n",
    "cleaned_data['price'] = cleaned_data.apply(convert_price, axis=1)\n",
    "cleaned_data['mileage'] = cleaned_data['mileage'].str.replace(' km', '').str.replace(' ', '').astype(int)\n",
    "cleaned_data = cleaned_data.drop(columns=['price_currency'])"
   ]
  },
  {
   "cell_type": "code",
   "execution_count": 9,
   "metadata": {},
   "outputs": [
    {
     "data": {
      "text/plain": [
       "type_of_seller\n",
       "Prywatny sprzedawca    4183\n",
       "None                   2150\n",
       "Firma                    11\n",
       "Name: count, dtype: int64"
      ]
     },
     "execution_count": 9,
     "metadata": {},
     "output_type": "execute_result"
    }
   ],
   "source": [
    "cleaned_data['type_of_seller'].value_counts(dropna=False)"
   ]
  },
  {
   "cell_type": "code",
   "execution_count": 10,
   "metadata": {},
   "outputs": [],
   "source": [
    "import matplotlib.pyplot as plt\n",
    "from PIL import Image\n",
    "import os\n",
    "\n",
    "def show_samples(rows):\n",
    "    # Ścieżka do folderu z obrazami\n",
    "    image_folder = '..\\\\..\\\\data_img'\n",
    "\n",
    "    # Wyświetlanie zdjęć dla wybranych rekordów\n",
    "    plt.figure(figsize=(15, 10))\n",
    "    for i, (_, row) in enumerate(rows.iterrows()):\n",
    "        img_local = row['img_local']\n",
    "        image_path = os.path.join(image_folder, img_local)\n",
    "        \n",
    "        if os.path.isfile(image_path):  # Sprawdzenie, czy plik istnieje\n",
    "            img = Image.open(image_path)\n",
    "\n",
    "            # Tworzenie subplotu dla każdego obrazu\n",
    "            plt.subplot(4, 5, i + 1)  # Układ 4x5 dla 20 obrazów\n",
    "            plt.imshow(img)\n",
    "            plt.axis('off')\n",
    "            plt.title(f\"ID: {row['id']}\")\n",
    "        else:\n",
    "            print(f\"Obraz {os.path.abspath(image_path)} nie istnieje.\")\n",
    "\n",
    "    plt.tight_layout()\n",
    "    plt.show()"
   ]
  },
  {
   "cell_type": "code",
   "execution_count": 11,
   "metadata": {},
   "outputs": [],
   "source": [
    "#null_seller_rows = cleaned_data[cleaned_data['type_of_seller'].isna()].sample(n=20, random_state=15)\n",
    "#show_samples(null_seller_rows)"
   ]
  },
  {
   "cell_type": "code",
   "execution_count": 12,
   "metadata": {},
   "outputs": [],
   "source": [
    "#cleaning part 2\n",
    "cleaned_data\n",
    "cleaned_data['is_private'] = cleaned_data['type_of_seller'].apply(lambda x: True if x == \"Prywatny sprzedawca\" else False)\n",
    "cleaned_data = cleaned_data.drop(columns=['type_of_seller'])"
   ]
  },
  {
   "cell_type": "code",
   "execution_count": 13,
   "metadata": {},
   "outputs": [],
   "source": [
    "# left main part of car type\n",
    "cleaned_data['car_type_main'] = cleaned_data['car_type'].apply(lambda x: x.strip().split(' ')[0].strip() if isinstance(x, str) else None)\n",
    "pd.set_option('display.max_rows', 50)\n",
    "car_type_main = cleaned_data['car_type_main'].value_counts(dropna=False)\n",
    "cleaned_data = cleaned_data[(cleaned_data['car_type_main'] != '') & (cleaned_data['car_type_main'].notna())]"
   ]
  },
  {
   "cell_type": "code",
   "execution_count": 14,
   "metadata": {},
   "outputs": [],
   "source": [
    "#cleaning part 3\n",
    "cleaned_data = cleaned_data.drop(columns=['car_type'])\n"
   ]
  },
  {
   "cell_type": "code",
   "execution_count": 15,
   "metadata": {},
   "outputs": [
    {
     "name": "stdout",
     "output_type": "stream",
     "text": [
      "<class 'pandas.core.frame.DataFrame'>\n",
      "Index: 4686 entries, 0 to 6399\n",
      "Data columns (total 9 columns):\n",
      " #   Column         Non-Null Count  Dtype  \n",
      "---  ------         --------------  -----  \n",
      " 0   img_local      4686 non-null   object \n",
      " 1   price          4686 non-null   float64\n",
      " 2   mileage        4686 non-null   int64  \n",
      " 3   fuel_type      4686 non-null   object \n",
      " 4   gearbox        4686 non-null   object \n",
      " 5   year           4686 non-null   int64  \n",
      " 6   model          4686 non-null   object \n",
      " 7   is_private     4686 non-null   bool   \n",
      " 8   car_type_main  4686 non-null   object \n",
      "dtypes: bool(1), float64(1), int64(2), object(5)\n",
      "memory usage: 334.1+ KB\n",
      "None\n",
      "             img_local     price  mileage fuel_type       gearbox  year  \\\n",
      "0  619888553496191.jpg  255000.0        6    Diesel  Automatyczna  2023   \n",
      "1  878738710972359.jpg  249600.0        5    Diesel  Automatyczna  2024   \n",
      "2  325534139055352.jpg   52990.0   230000    Diesel  Automatyczna  2016   \n",
      "3  586230984198372.jpg  149000.0   189000    Diesel  Automatyczna  2017   \n",
      "4  301505465645954.jpg   38000.0   200000    Diesel      Manualna  2016   \n",
      "\n",
      "     model  is_private car_type_main  \n",
      "0  Seria 3       False          320d  \n",
      "1       X3       False     xDrive20d  \n",
      "2  Seria 3        True          320d  \n",
      "3  Seria 7        True          740d  \n",
      "4  Seria 3        True          318d  \n"
     ]
    }
   ],
   "source": [
    "print(cleaned_data.info())\n",
    "print(cleaned_data.head(5))"
   ]
  },
  {
   "cell_type": "code",
   "execution_count": 16,
   "metadata": {},
   "outputs": [],
   "source": [
    "a = cleaned_data['car_type_main'].value_counts(dropna=False)"
   ]
  },
  {
   "cell_type": "code",
   "execution_count": 17,
   "metadata": {},
   "outputs": [],
   "source": [
    "cleaned_data.to_json('../../cleaned_base_data_with_car_type.json', orient='records', lines=True)\n"
   ]
  },
  {
   "cell_type": "code",
   "execution_count": 18,
   "metadata": {},
   "outputs": [],
   "source": [
    "test_data = cleaned_data.sample(frac=0.15, random_state=42)\n",
    "train_data = cleaned_data.drop(test_data.index)\n",
    "test_data.to_json(\"../../test_data_with_car_type.json\", orient=\"records\", lines=True)\n",
    "train_data.to_json(\"../../train_data_with_car_type.json\", orient=\"records\", lines=True)"
   ]
  }
 ],
 "metadata": {
  "kernelspec": {
   "display_name": ".venv",
   "language": "python",
   "name": "python3"
  },
  "language_info": {
   "codemirror_mode": {
    "name": "ipython",
    "version": 3
   },
   "file_extension": ".py",
   "mimetype": "text/x-python",
   "name": "python",
   "nbconvert_exporter": "python",
   "pygments_lexer": "ipython3",
   "version": "3.12.4"
  },
  "orig_nbformat": 4
 },
 "nbformat": 4,
 "nbformat_minor": 2
}
