{
 "cells": [
  {
   "cell_type": "code",
   "execution_count": 2,
   "metadata": {},
   "outputs": [],
   "source": [
    "from pathlib import Path\n",
    "import pandas as pd\n",
    "from sklearn.discriminant_analysis import StandardScaler\n",
    "from sklearn.model_selection import train_test_split\n",
    "\n",
    "\n",
    "json_file = Path(\"../data/clean_data.json\")\n",
    "df = pd.read_json(json_file, orient='records', lines=True)\n",
    "\n",
    "# Zachowanie kolumny `url` do późniejszego powiązania\n",
    "#urls = df[\"url\"]\n",
    "\n",
    "# Przygotowanie danych do treningu\n",
    "df = df.drop(columns=[\"lokalizacja\"], errors=\"ignore\")\n",
    "df = pd.get_dummies(df, columns=[\"model\", \"rodzaj_paliwa\", \"skrzynia_biegow\", \"naped\", \"typ_nadwozia\", \"kolor\", \"stan_pojazdu\"], drop_first=True)\n",
    "df[['rok_produkcji', 'przebieg', 'pojemnosc_silnika', 'moc_silnika', 'liczba_drzwi', 'liczba_miejsc']] = StandardScaler().fit_transform(df[['rok_produkcji', 'przebieg', 'pojemnosc_silnika', 'moc_silnika', 'liczba_drzwi', 'liczba_miejsc']])\n",
    "\n",
    "\n",
    "output_file = Path(\"../data/clean_data_01.json\")\n",
    "df.to_json(output_file, orient='records', lines=True, force_ascii=False)\n",
    "train_data, test_data = train_test_split(df, test_size=0.2, random_state=42)\n",
    "output_file = Path(\"../data/clean_data_train_01.json\")\n",
    "train_data.to_json(output_file, orient='records', lines=True, force_ascii=False)\n",
    "output_file = Path(\"../data/clean_data_test_01.json\")\n",
    "test_data.to_json(output_file, orient='records', lines=True, force_ascii=False)"
   ]
  }
 ],
 "metadata": {
  "kernelspec": {
   "display_name": ".venv",
   "language": "python",
   "name": "python3"
  },
  "language_info": {
   "codemirror_mode": {
    "name": "ipython",
    "version": 3
   },
   "file_extension": ".py",
   "mimetype": "text/x-python",
   "name": "python",
   "nbconvert_exporter": "python",
   "pygments_lexer": "ipython3",
   "version": "3.12.4"
  },
  "orig_nbformat": 4
 },
 "nbformat": 4,
 "nbformat_minor": 2
}
